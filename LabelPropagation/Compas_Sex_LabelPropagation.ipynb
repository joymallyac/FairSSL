{
 "cells": [
  {
   "cell_type": "code",
   "execution_count": null,
   "metadata": {},
   "outputs": [],
   "source": [
    "from __future__ import print_function, division\n",
    "\n",
    "from collections import Counter\n",
    "import pandas as pd\n",
    "import random,time,csv\n",
    "import numpy as np\n",
    "import copy\n",
    "import math,copy,os\n",
    "from sklearn.linear_model import LogisticRegression\n",
    "from sklearn.tree import DecisionTreeRegressor\n",
    "from sklearn.model_selection import train_test_split\n",
    "from sklearn.metrics import classification_report, confusion_matrix, accuracy_score\n",
    "from sklearn import tree\n",
    "from sklearn.naive_bayes import GaussianNB\n",
    "from sklearn.ensemble import RandomForestClassifier\n",
    "from sklearn.svm import SVC\n",
    "from sklearn.utils import shuffle\n",
    "import sklearn.metrics as metrics\n",
    "from sklearn.cluster import KMeans\n",
    "from sklearn import mixture\n",
    "import matplotlib.pyplot as plt\n",
    "\n",
    "import sys\n",
    "sys.path.append(os.path.abspath('..'))\n",
    "\n",
    "from Measure import measure_final_score,calculate_recall,calculate_far,calculate_precision,calculate_accuracy"
   ]
  },
  {
   "cell_type": "markdown",
   "metadata": {},
   "source": [
    "# Load Dataset"
   ]
  },
  {
   "cell_type": "code",
   "execution_count": null,
   "metadata": {},
   "outputs": [],
   "source": [
    "from sklearn import preprocessing\n",
    "dataset_orig = pd.read_csv('../data/compas-scores-two-years.csv')\n",
    "\n",
    "\n",
    "## Drop categorical features\n",
    "## Removed two duplicate coumns - 'decile_score','priors_count'\n",
    "dataset_orig = dataset_orig.drop(['id','name','first','last',\n",
    "                                  'compas_screening_date','dob',\n",
    "                                  'age','juv_fel_count','decile_score',\n",
    "                                  'juv_misd_count','juv_other_count',\n",
    "                                  'days_b_screening_arrest','c_jail_in',\n",
    "                                  'c_jail_out','c_case_number',\n",
    "                                  'c_offense_date','c_arrest_date',\n",
    "                                  'c_days_from_compas','c_charge_desc',\n",
    "                                  'is_recid','r_case_number',\n",
    "                                  'r_charge_degree','r_days_from_arrest',\n",
    "                                  'r_offense_date','r_charge_desc',\n",
    "                                  'r_jail_in','r_jail_out','violent_recid',\n",
    "                                  'is_violent_recid','vr_case_number','vr_charge_degree',\n",
    "                                  'vr_offense_date','vr_charge_desc','type_of_assessment',\n",
    "                                  'decile_score','score_text','screening_date','v_type_of_assessment',\n",
    "                                  'v_decile_score','v_score_text','v_screening_date','in_custody','out_custody',\n",
    "                                  'start','end','event'],axis=1)\n",
    "\n",
    "## Drop NULL values\n",
    "dataset_orig = dataset_orig.dropna()\n",
    "\n",
    "\n",
    "## Change symbolics to numerics\n",
    "dataset_orig['sex'] = np.where(dataset_orig['sex'] == 'Female', 1, 0)\n",
    "dataset_orig['race'] = np.where(dataset_orig['race'] != 'Caucasian', 0, 1)\n",
    "dataset_orig['priors_count'] = np.where((dataset_orig['priors_count'] >= 1 ) & (dataset_orig['priors_count'] <= 3), 3, dataset_orig['priors_count'])\n",
    "dataset_orig['priors_count'] = np.where(dataset_orig['priors_count'] > 3, 4, dataset_orig['priors_count'])\n",
    "dataset_orig['age_cat'] = np.where(dataset_orig['age_cat'] == 'Greater than 45',45,dataset_orig['age_cat'])\n",
    "dataset_orig['age_cat'] = np.where(dataset_orig['age_cat'] == '25 - 45', 25, dataset_orig['age_cat'])\n",
    "dataset_orig['age_cat'] = np.where(dataset_orig['age_cat'] == 'Less than 25', 0, dataset_orig['age_cat'])\n",
    "dataset_orig['c_charge_degree'] = np.where(dataset_orig['c_charge_degree'] == 'F', 1, 0)\n",
    "\n",
    "\n",
    "protected_attribute = 'sex'\n",
    "\n",
    "## Rename class column\n",
    "dataset_orig.rename(index=str, columns={\"two_year_recid\": \"Probability\"}, inplace=True)\n",
    "\n",
    "## Here did not rec means 0 is the favorable lable\n",
    "dataset_orig['Probability'] = np.where(dataset_orig['Probability'] == 0, 1, 0)\n",
    "\n",
    "from sklearn.preprocessing import MinMaxScaler\n",
    "\n",
    "scaler = MinMaxScaler()\n",
    "dataset_orig = pd.DataFrame(scaler.fit_transform(dataset_orig),columns = dataset_orig.columns)\n",
    "\n",
    "\n",
    "dataset_orig_train, dataset_orig_test = train_test_split(dataset_orig, test_size=0.2, shuffle = True)\n",
    "\n",
    "\n",
    "X_train, y_train = dataset_orig_train.loc[:, dataset_orig_train.columns != 'Probability'], dataset_orig_train['Probability']\n",
    "X_test, y_test = dataset_orig_test.loc[:, dataset_orig_test.columns != 'Probability'], dataset_orig_test['Probability']\n",
    "\n",
    "# divide the data based on sex\n",
    "dataset_orig_male , dataset_orig_female = [x for _, x in dataset_orig_train.groupby(dataset_orig_train[protected_attribute] == 0)]\n",
    "\n",
    "print(dataset_orig_male.shape)\n",
    "print(dataset_orig_female.shape)"
   ]
  },
  {
   "cell_type": "markdown",
   "metadata": {},
   "source": [
    "# Check Default model scores on test data"
   ]
  },
  {
   "cell_type": "code",
   "execution_count": null,
   "metadata": {},
   "outputs": [],
   "source": [
    "clf = LogisticRegression(C=1.0, penalty='l2', solver='liblinear', max_iter=100).fit(X_train,y_train)\n",
    "\n",
    "predicted = clf.predict(X_test)\n",
    "print(classification_report(y_test, predicted))\n",
    "\n",
    "print(\"recall :\", measure_final_score(dataset_orig_test, clf, X_train, y_train, X_test, y_test, protected_attribute, 'recall'))\n",
    "print(\"far :\",measure_final_score(dataset_orig_test, clf, X_train, y_train, X_test, y_test, protected_attribute, 'far'))\n",
    "print(\"precision :\", measure_final_score(dataset_orig_test, clf, X_train, y_train, X_test, y_test, protected_attribute, 'precision'))\n",
    "print(\"accuracy :\",measure_final_score(dataset_orig_test, clf, X_train, y_train, X_test, y_test, protected_attribute, 'accuracy'))\n",
    "print(\"F1 Score :\",measure_final_score(dataset_orig_test, clf, X_train, y_train, X_test, y_test, protected_attribute, 'F1'))\n",
    "print(\"aod :\"+protected_attribute,measure_final_score(dataset_orig_test, clf, X_train, y_train, X_test, y_test, protected_attribute, 'aod'))\n",
    "print(\"eod :\"+protected_attribute,measure_final_score(dataset_orig_test, clf, X_train, y_train, X_test, y_test, protected_attribute, 'eod'))\n",
    "\n",
    "print(\"SPD:\",measure_final_score(dataset_orig_test, clf, X_train, y_train, X_test, y_test, protected_attribute, 'SPD'))\n",
    "print(\"DI:\",measure_final_score(dataset_orig_test, clf, X_train, y_train, X_test, y_test, protected_attribute, 'DI'))"
   ]
  },
  {
   "cell_type": "markdown",
   "metadata": {},
   "source": [
    "# Train model for male "
   ]
  },
  {
   "cell_type": "code",
   "execution_count": null,
   "metadata": {},
   "outputs": [],
   "source": [
    "dataset_orig_male[protected_attribute] = 0\n",
    "X_train_male, y_train_male = dataset_orig_male.loc[:, dataset_orig_male.columns != 'Probability'], dataset_orig_male['Probability']\n",
    "clf_male = LogisticRegression(C=1.0, penalty='l2', solver='liblinear', max_iter=100)\n",
    "clf_male.fit(X_train_male, y_train_male)"
   ]
  },
  {
   "cell_type": "markdown",
   "metadata": {},
   "source": [
    "# Train model for female "
   ]
  },
  {
   "cell_type": "code",
   "execution_count": null,
   "metadata": {},
   "outputs": [],
   "source": [
    "X_train_female, y_train_female = dataset_orig_female.loc[:, dataset_orig_female.columns != 'Probability'], dataset_orig_female['Probability']\n",
    "clf_female = LogisticRegression(C=1.0, penalty='l2', solver='liblinear', max_iter=100)\n",
    "clf_female.fit(X_train_female, y_train_female)"
   ]
  },
  {
   "cell_type": "markdown",
   "metadata": {},
   "source": [
    "# Select fair rows"
   ]
  },
  {
   "cell_type": "code",
   "execution_count": null,
   "metadata": {},
   "outputs": [],
   "source": [
    "print(dataset_orig_train.shape)\n",
    "\n",
    "unlabeled_df = pd.DataFrame(columns=dataset_orig_train.columns)\n",
    "\n",
    "for index,row in dataset_orig_train.iterrows():\n",
    "    row_ = [row.values[0:len(row.values)-1]]\n",
    "    y_male = clf_male.predict(row_)\n",
    "    y_female = clf_female.predict(row_)\n",
    "    if y_male[0] != y_female[0]:\n",
    "        unlabeled_df = unlabeled_df.append(row, ignore_index=True)\n",
    "        dataset_orig_train = dataset_orig_train.drop(index)\n",
    "        \n",
    "print(dataset_orig_train.shape)\n",
    "print(unlabeled_df.shape)"
   ]
  },
  {
   "cell_type": "code",
   "execution_count": null,
   "metadata": {},
   "outputs": [],
   "source": [
    "# dataset_orig_train = dataset_orig_train.drop_duplicates()\n",
    "# dataset_orig_train.shape"
   ]
  },
  {
   "cell_type": "markdown",
   "metadata": {},
   "source": [
    "# Prepare labeled and unlabeled data"
   ]
  },
  {
   "cell_type": "code",
   "execution_count": null,
   "metadata": {},
   "outputs": [],
   "source": [
    "zero_zero_df = dataset_orig_train[(dataset_orig_train['Probability'] == 0) & (dataset_orig_train[protected_attribute] == 0)]\n",
    "zero_one_df = dataset_orig_train[(dataset_orig_train['Probability'] == 0) & (dataset_orig_train[protected_attribute] == 1)]\n",
    "one_zero_df = dataset_orig_train[(dataset_orig_train['Probability'] == 1) & (dataset_orig_train[protected_attribute] == 0)]\n",
    "one_one_df = dataset_orig_train[(dataset_orig_train['Probability'] == 1) & (dataset_orig_train[protected_attribute] == 1)]\n",
    "\n",
    "x = 200\n",
    "\n",
    "df1 = zero_zero_df[:x].append(zero_one_df[:x])\n",
    "df2 = df1.append(one_zero_df[:x])\n",
    "df3 = df2.append(one_one_df[:x])\n",
    "labeled_df = df3.reset_index(drop=True)\n",
    "labeled_df = shuffle(labeled_df)\n",
    "\n",
    "\n",
    "df1 = zero_zero_df[x:].append(zero_one_df[x:])\n",
    "df2 = df1.append(one_zero_df[x:])\n",
    "df3 = df2.append(one_one_df[x:])\n",
    "unlabeled_df = unlabeled_df.append(df3).reset_index(drop=True)\n",
    "\n",
    "print(labeled_df.shape)\n",
    "print(unlabeled_df.shape)"
   ]
  },
  {
   "cell_type": "code",
   "execution_count": null,
   "metadata": {},
   "outputs": [],
   "source": [
    "unlabeled_df['Probability'] = -1 ## For sklearn label propagation\n",
    "mixed_df = labeled_df.append(unlabeled_df)\n",
    "X_train, y_train = mixed_df.loc[:, mixed_df.columns != 'Probability'], mixed_df['Probability']\n",
    "print(X_train.shape,y_train.shape)"
   ]
  },
  {
   "cell_type": "markdown",
   "metadata": {},
   "source": [
    "# Train LabelPropagation Model"
   ]
  },
  {
   "cell_type": "code",
   "execution_count": null,
   "metadata": {},
   "outputs": [],
   "source": [
    "from sklearn.semi_supervised import LabelPropagation\n",
    "\n",
    "label_prop_model = LabelPropagation()\n",
    "label_prop_model.fit(X_train, y_train)"
   ]
  },
  {
   "cell_type": "code",
   "execution_count": null,
   "metadata": {},
   "outputs": [],
   "source": [
    "X_unl, y_unl = unlabeled_df.loc[:, unlabeled_df.columns != 'Probability'], unlabeled_df['Probability']\n",
    "\n",
    "y_pred_proba = label_prop_model.predict_proba(X_unl)\n",
    "y_pred = label_prop_model.predict(X_unl)"
   ]
  },
  {
   "cell_type": "code",
   "execution_count": null,
   "metadata": {},
   "outputs": [],
   "source": [
    "to_keep = []\n",
    "\n",
    "for i in range(len(y_pred_proba)):\n",
    "    if max(y_pred_proba[i]) >= 0.6:\n",
    "        to_keep.append(i)\n",
    "\n",
    "print(len(to_keep))\n",
    "\n",
    "X_unl_certain = X_unl.iloc[to_keep,:]\n",
    "y_unl_certain = y_pred[to_keep]\n",
    "\n",
    "print(X_unl.shape)\n",
    "print(y_unl.shape)\n",
    "print(X_unl_certain.shape)\n",
    "print(y_unl_certain.shape)\n",
    "\n",
    "\n",
    "X_train, y_train = labeled_df.loc[:, labeled_df.columns != 'Probability'], labeled_df['Probability']\n",
    "\n",
    "X_train = X_train.append(X_unl_certain)\n",
    "y_train = np.concatenate([y_train,y_unl_certain])"
   ]
  },
  {
   "cell_type": "markdown",
   "metadata": {},
   "source": [
    "# Check scores on test data"
   ]
  },
  {
   "cell_type": "code",
   "execution_count": null,
   "metadata": {},
   "outputs": [],
   "source": [
    "clf = LogisticRegression(C=1.0, penalty='l2', solver='liblinear', max_iter=100).fit(X_train,y_train)\n",
    "\n",
    "print(X_train.shape)\n",
    "\n",
    "\n",
    "print(\"recall :\", measure_final_score(dataset_orig_test, clf, X_train, y_train, X_test, y_test, protected_attribute, 'recall'))\n",
    "print(\"far :\",measure_final_score(dataset_orig_test, clf, X_train, y_train, X_test, y_test, protected_attribute, 'far'))\n",
    "print(\"precision :\", measure_final_score(dataset_orig_test, clf, X_train, y_train, X_test, y_test, protected_attribute, 'precision'))\n",
    "print(\"accuracy :\",measure_final_score(dataset_orig_test, clf, X_train, y_train, X_test, y_test, protected_attribute, 'accuracy'))\n",
    "print(\"F1 Score :\",measure_final_score(dataset_orig_test, clf, X_train, y_train, X_test, y_test, protected_attribute, 'F1'))\n",
    "print(\"aod :\"+protected_attribute,measure_final_score(dataset_orig_test, clf, X_train, y_train, X_test, y_test, protected_attribute, 'aod'))\n",
    "print(\"eod :\"+protected_attribute,measure_final_score(dataset_orig_test, clf, X_train, y_train, X_test, y_test, protected_attribute, 'eod'))\n",
    "\n",
    "print(\"SPD:\",measure_final_score(dataset_orig_test, clf, X_train, y_train, X_test, y_test, protected_attribute, 'SPD'))\n",
    "print(\"DI:\",measure_final_score(dataset_orig_test, clf, X_train, y_train, X_test, y_test, protected_attribute, 'DI'))"
   ]
  },
  {
   "cell_type": "markdown",
   "metadata": {},
   "source": [
    "# Balance the data to do further improvement"
   ]
  },
  {
   "cell_type": "code",
   "execution_count": null,
   "metadata": {},
   "outputs": [],
   "source": [
    "X_train['Probability'] = y_train\n",
    "dataset_orig_train = X_train\n",
    "\n",
    "# first one is class value and second one is protected attribute value\n",
    "zero_zero = len(dataset_orig_train[(dataset_orig_train['Probability'] == 0) & (dataset_orig_train[protected_attribute] == 0)])\n",
    "zero_one = len(dataset_orig_train[(dataset_orig_train['Probability'] == 0) & (dataset_orig_train[protected_attribute] == 1)])\n",
    "one_zero = len(dataset_orig_train[(dataset_orig_train['Probability'] == 1) & (dataset_orig_train[protected_attribute] == 0)])\n",
    "one_one = len(dataset_orig_train[(dataset_orig_train['Probability'] == 1) & (dataset_orig_train[protected_attribute] == 1)])\n",
    "\n",
    "print(zero_zero,zero_one,one_zero,one_one)"
   ]
  },
  {
   "cell_type": "code",
   "execution_count": null,
   "metadata": {},
   "outputs": [],
   "source": [
    "maximum = max(zero_zero,zero_one,one_zero,one_one)\n",
    "\n",
    "if maximum == zero_zero:\n",
    "    print(\"zero_zero is maximum\")\n",
    "if maximum == zero_one:\n",
    "    print(\"zero_one is maximum\")\n",
    "if maximum == one_zero:\n",
    "    print(\"one_zero is maximum\")\n",
    "if maximum == one_one:\n",
    "    print(\"one_one is maximum\")"
   ]
  },
  {
   "cell_type": "code",
   "execution_count": null,
   "metadata": {},
   "outputs": [],
   "source": [
    "one_zero_to_be_incresed = maximum - one_zero ## where class is 0 attribute is 0\n",
    "zero_one_to_be_incresed = maximum - zero_one \n",
    "one_one_to_be_incresed = maximum - one_one ## where class is 1 attribute is 1\n",
    "\n",
    "print(one_zero_to_be_incresed,zero_one_to_be_incresed,one_one_to_be_incresed)"
   ]
  },
  {
   "cell_type": "code",
   "execution_count": null,
   "metadata": {},
   "outputs": [],
   "source": [
    "from Generate_Samples import generate_samples\n",
    "\n",
    "df_one_zero = dataset_orig_train[(dataset_orig_train['Probability'] == 1) & (dataset_orig_train[protected_attribute] == 0)]\n",
    "df_zero_one = dataset_orig_train[(dataset_orig_train['Probability'] == 0) & (dataset_orig_train[protected_attribute] == 1)]\n",
    "df_one_one = dataset_orig_train[(dataset_orig_train['Probability'] == 1) & (dataset_orig_train[protected_attribute] == 1)]\n",
    "\n",
    "\n",
    "df_zero_one['race'] = df_zero_one['race'].astype(str)\n",
    "df_zero_one['sex'] = df_zero_one['sex'].astype(str)\n",
    "\n",
    "\n",
    "df_one_zero['race'] = df_one_zero['race'].astype(str)\n",
    "df_one_zero['sex'] = df_one_zero['sex'].astype(str)\n",
    "\n",
    "df_one_one['race'] = df_one_one['race'].astype(str)\n",
    "df_one_one['sex'] = df_one_one['sex'].astype(str)\n",
    "\n",
    "df_one_zero = generate_samples(one_zero_to_be_incresed,df_one_zero,'Compas')\n",
    "df_zero_one = generate_samples(zero_one_to_be_incresed,df_zero_one,'Compas')\n",
    "df_one_one = generate_samples(one_one_to_be_incresed,df_one_one,'Compas')"
   ]
  },
  {
   "cell_type": "code",
   "execution_count": null,
   "metadata": {},
   "outputs": [],
   "source": [
    "df = df_zero_one.append(df_one_zero)\n",
    "df = df.append(df_one_one)\n",
    "\n",
    "df['race'] = df['race'].astype(float)\n",
    "df['sex'] = df['sex'].astype(float)\n",
    "\n",
    "df_zero_zero = dataset_orig_train[(dataset_orig_train['Probability'] == 0) & (dataset_orig_train[protected_attribute] == 0)]\n",
    "df = df.append(df_zero_zero)"
   ]
  },
  {
   "cell_type": "code",
   "execution_count": null,
   "metadata": {},
   "outputs": [],
   "source": [
    "X_train, y_train = df.loc[:, df.columns != 'Probability'], df['Probability']\n",
    "\n",
    "clf = LogisticRegression(C=1.0, penalty='l2', solver='liblinear', max_iter=100).fit(X_train,y_train) # LSR\n",
    "\n",
    "\n",
    "print(\"recall :\", measure_final_score(dataset_orig_test, clf, X_train, y_train, X_test, y_test, protected_attribute, 'recall'))\n",
    "print(\"far :\",measure_final_score(dataset_orig_test, clf, X_train, y_train, X_test, y_test, protected_attribute, 'far'))\n",
    "print(\"precision :\", measure_final_score(dataset_orig_test, clf, X_train, y_train, X_test, y_test, protected_attribute, 'precision'))\n",
    "print(\"accuracy :\",measure_final_score(dataset_orig_test, clf, X_train, y_train, X_test, y_test, protected_attribute, 'accuracy'))\n",
    "print(\"F1 Score :\",measure_final_score(dataset_orig_test, clf, X_train, y_train, X_test, y_test, protected_attribute, 'F1'))\n",
    "print(\"aod :\"+protected_attribute,measure_final_score(dataset_orig_test, clf, X_train, y_train, X_test, y_test, protected_attribute, 'aod'))\n",
    "print(\"eod :\"+protected_attribute,measure_final_score(dataset_orig_test, clf, X_train, y_train, X_test, y_test, protected_attribute, 'eod'))\n",
    "\n",
    "print(\"SPD:\",measure_final_score(dataset_orig_test, clf, X_train, y_train, X_test, y_test, protected_attribute, 'SPD'))\n",
    "print(\"DI:\",measure_final_score(dataset_orig_test, clf, X_train, y_train, X_test, y_test, protected_attribute, 'DI'))"
   ]
  },
  {
   "cell_type": "code",
   "execution_count": null,
   "metadata": {},
   "outputs": [],
   "source": [
    "zero_zero = len(df[(df['Probability'] == 0) & (df[protected_attribute] == 0)])\n",
    "zero_one = len(df[(df['Probability'] == 0) & (df[protected_attribute] == 1)])\n",
    "one_zero = len(df[(df['Probability'] == 1) & (df[protected_attribute] == 0)])\n",
    "one_one = len(df[(df['Probability'] == 1) & (df[protected_attribute] == 1)])\n",
    "\n",
    "print(zero_zero,zero_one,one_zero,one_one)"
   ]
  }
 ],
 "metadata": {
  "kernelspec": {
   "display_name": "Python 3",
   "language": "python",
   "name": "python3"
  },
  "language_info": {
   "codemirror_mode": {
    "name": "ipython",
    "version": 3
   },
   "file_extension": ".py",
   "mimetype": "text/x-python",
   "name": "python",
   "nbconvert_exporter": "python",
   "pygments_lexer": "ipython3",
   "version": "3.6.4"
  }
 },
 "nbformat": 4,
 "nbformat_minor": 2
}
